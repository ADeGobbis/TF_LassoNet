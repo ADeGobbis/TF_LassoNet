{
 "cells": [
  {
   "cell_type": "code",
   "execution_count": 1,
   "id": "1cd89d71",
   "metadata": {},
   "outputs": [],
   "source": [
    "import matplotlib.pyplot as plt\n",
    "import tensorflow as tf\n",
    "import tensorflow_datasets as tfds\n",
    "from tensorflow.keras import Sequential\n",
    "from tensorflow.keras.layers import Conv2D, Dense, Flatten, InputLayer\n",
    "from tf_lassonet.model import LassoNet\n",
    "from tf_lassonet.path import LassoPath"
   ]
  },
  {
   "cell_type": "markdown",
   "id": "d046c1bf",
   "metadata": {},
   "source": [
    "# Load the dataset\n",
    "\n",
    "Only the numbers 5 and 6 are selected"
   ]
  },
  {
   "cell_type": "code",
   "execution_count": 2,
   "id": "306007e8",
   "metadata": {},
   "outputs": [],
   "source": [
    "BATCH_SIZE = 2048\n",
    "\n",
    "(ds_train, ds_test), ds_info = tfds.load(\n",
    "    \"mnist\",\n",
    "    split=[\"train\", \"test\"],\n",
    "    shuffle_files=True,\n",
    "    as_supervised=True,\n",
    "    with_info=True,\n",
    ")\n",
    "\n",
    "def keep_5_and_6(x, y):\n",
    "    if y == 5 or y == 6:\n",
    "        return True\n",
    "    else:\n",
    "        return False\n",
    "\n",
    "\n",
    "def to_binary(x, y):\n",
    "    if y== 5:\n",
    "        return x, 0\n",
    "    else:\n",
    "        return x, 1\n",
    "\n",
    "def normalize_img(image, label):\n",
    "    \"\"\"Normalizes images: `uint8` -> `float32`.\"\"\"\n",
    "    return tf.cast(image, tf.float32) / 255.0, label\n",
    "\n",
    "\n",
    "ds_train = (\n",
    "    ds_train.filter(keep_5_and_6)\n",
    "    .map(normalize_img, num_parallel_calls=tf.data.experimental.AUTOTUNE)\n",
    "    .map(to_binary)\n",
    "    .cache()\n",
    "    .shuffle(ds_info.splits[\"train\"].num_examples)\n",
    "    .batch(BATCH_SIZE)\n",
    "    .prefetch(tf.data.experimental.AUTOTUNE)\n",
    ")\n",
    "\n",
    "ds_test = (\n",
    "    ds_test.filter(keep_5_and_6)\n",
    "    .map(normalize_img, num_parallel_calls=tf.data.experimental.AUTOTUNE)\n",
    "    .map(to_binary)\n",
    "    .batch(BATCH_SIZE)\n",
    "    .cache()\n",
    "    .prefetch(tf.data.experimental.AUTOTUNE)\n",
    ")"
   ]
  },
  {
   "cell_type": "markdown",
   "id": "cea4f09c",
   "metadata": {},
   "source": [
    "# Create our model"
   ]
  },
  {
   "cell_type": "code",
   "execution_count": 3,
   "id": "b7c9d749",
   "metadata": {},
   "outputs": [],
   "source": [
    "model = Sequential(\n",
    "    [\n",
    "        InputLayer((28, 28, 1)),        \n",
    "        Conv2D(5, (3,3), activation=\"relu\", name=\"conv\"),\n",
    "        Flatten(),        \n",
    "        Dense(2, name=\"layer4\"),\n",
    "    ]\n",
    ")"
   ]
  },
  {
   "cell_type": "code",
   "execution_count": 4,
   "id": "e2f0fa73",
   "metadata": {},
   "outputs": [],
   "source": [
    "path = LassoPath(\n",
    "    model, \n",
    "    n_iters_init=100, \n",
    "    patience_init=3, \n",
    "    n_iters_path=10, \n",
    "    patience_path=2, \n",
    "    M=30,\n",
    "    path_multiplier=1.05 \n",
    ")\n",
    "path.lassonet.compile(\n",
    "    optimizer=tf.keras.optimizers.Adam(0.0001),\n",
    "    loss=tf.keras.losses.SparseCategoricalCrossentropy(from_logits=True),\n",
    "    metrics=[tf.keras.metrics.SparseCategoricalAccuracy()],\n",
    ")\n"
   ]
  },
  {
   "cell_type": "code",
   "execution_count": 5,
   "id": "7ce528a6",
   "metadata": {},
   "outputs": [
    {
     "data": {
      "application/vnd.jupyter.widget-view+json": {
       "model_id": "040bea8e9ec04bdca755faf3ae4abfeb",
       "version_major": 2,
       "version_minor": 0
      },
      "text/plain": [
       "HBox(children=(HTML(value=''), FloatProgress(value=1.0, bar_style='info', layout=Layout(width='20px'), max=1.0…"
      ]
     },
     "metadata": {},
     "output_type": "display_data"
    },
    {
     "name": "stdout",
     "output_type": "stream",
     "text": [
      "\n"
     ]
    }
   ],
   "source": [
    "h = path.fit(ds_train, ds_test, verbose=True)"
   ]
  },
  {
   "cell_type": "code",
   "execution_count": null,
   "id": "12cfb0e1",
   "metadata": {},
   "outputs": [],
   "source": []
  }
 ],
 "metadata": {
  "kernelspec": {
   "display_name": "Python 3",
   "language": "python",
   "name": "python3"
  },
  "language_info": {
   "codemirror_mode": {
    "name": "ipython",
    "version": 3
   },
   "file_extension": ".py",
   "mimetype": "text/x-python",
   "name": "python",
   "nbconvert_exporter": "python",
   "pygments_lexer": "ipython3",
   "version": "3.8.6"
  }
 },
 "nbformat": 4,
 "nbformat_minor": 5
}
